{
 "cells": [
  {
   "cell_type": "code",
   "execution_count": 14,
   "metadata": {},
   "outputs": [],
   "source": [
    "import numpy as np\n",
    "import os\n",
    "import sys\n",
    "import torch\n",
    "import torch.nn as nn\n",
    "import torch.nn.functional as F\n",
    "import torch.optim as optim\n",
    "import torchvision\n",
    "import torch.nn.init as init\n",
    "import torch.utils.data as data\n",
    "import torch.utils.data.dataset as dataset\n",
    "import torchvision.datasets as dset\n",
    "import torchvision.transforms as transforms\n",
    "from torch.autograd import Variable\n",
    "import torchvision.utils as v_utils\n",
    "import matplotlib.pyplot as plt\n",
    "import cv2\n",
    "import math\n",
    "from collections import OrderedDict\n",
    "import copy\n",
    "import time\n",
    "from model.utils import DataLoader\n",
    "from model.final_future_prediction_with_memory_spatial_sumonly_weight_ranking_top1 import *\n",
    "from model.Reconstruction import *\n",
    "from sklearn.metrics import roc_auc_score\n",
    "from utils import *\n",
    "import random\n",
    "import glob\n",
    "\n",
    "import argparse"
   ]
  },
  {
   "cell_type": "code",
   "execution_count": 15,
   "metadata": {},
   "outputs": [],
   "source": [
    "# Define default arguments\n",
    "default_args = {\n",
    "    'gpus': '0',\n",
    "    'batch_size': 2,\n",
    "    'test_batch_size': 1,\n",
    "    'h': 128,\n",
    "    'w': 128,\n",
    "    'c': 3,\n",
    "    'method': 'pred',\n",
    "    't_length': 5,\n",
    "    'fdim': 512,\n",
    "    'mdim': 512,\n",
    "    'msize': 10,\n",
    "    'alpha': 0.6,\n",
    "    'th': 0.01,\n",
    "    'num_workers': 2,\n",
    "    'num_workers_test': 1,\n",
    "    'dataset_type': 'ped2',\n",
    "    'dataset_path': './dataset',\n",
    "    'model_dir': './exp/ped2/pred/log/model.pth',\n",
    "    'm_items_dir': './exp/ped2/pred/log/keys.pt'\n",
    "}"
   ]
  },
  {
   "cell_type": "code",
   "execution_count": 16,
   "metadata": {},
   "outputs": [],
   "source": [
    "# Create an ArgumentParser object\n",
    "parser = argparse.ArgumentParser(description=\"MNAD\")\n",
    "\n",
    "# Add arguments to the parser\n",
    "for arg, value in default_args.items():\n",
    "    parser.add_argument(f'--{arg}', type=type(value), default=value)\n",
    "\n",
    "# Parse the arguments\n",
    "args = parser.parse_args([])"
   ]
  },
  {
   "cell_type": "code",
   "execution_count": 17,
   "metadata": {},
   "outputs": [],
   "source": [
    "os.environ[\"CUDA_DEVICE_ORDER\"]=\"PCI_BUS_ID\"\n",
    "if args.gpus is None:\n",
    "    gpus = \"0\"\n",
    "    os.environ[\"CUDA_VISIBLE_DEVICES\"]= gpus\n",
    "else:\n",
    "    gpus = \"\"\n",
    "    for i in range(len(args.gpus)):\n",
    "        gpus = gpus + args.gpus[i] + \",\"\n",
    "    os.environ[\"CUDA_VISIBLE_DEVICES\"]= gpus[:-1]"
   ]
  },
  {
   "cell_type": "code",
   "execution_count": 18,
   "metadata": {},
   "outputs": [],
   "source": [
    "torch.backends.cudnn.enabled = True"
   ]
  },
  {
   "cell_type": "code",
   "execution_count": 19,
   "metadata": {},
   "outputs": [],
   "source": [
    "test_folder = args.dataset_path+\"/\"+args.dataset_type+\"/testing/frames\""
   ]
  },
  {
   "cell_type": "code",
   "execution_count": 20,
   "metadata": {},
   "outputs": [],
   "source": [
    "# Loading dataset\n",
    "\n",
    "\n",
    "test_dataset = DataLoader(test_folder, transforms.Compose([\n",
    "             transforms.ToTensor(),            \n",
    "             ]), resize_height=args.h, resize_width=args.w, time_step=args.t_length-1)"
   ]
  },
  {
   "cell_type": "code",
   "execution_count": 21,
   "metadata": {},
   "outputs": [
    {
     "data": {
      "text/plain": [
       "352"
      ]
     },
     "execution_count": 21,
     "metadata": {},
     "output_type": "execute_result"
    }
   ],
   "source": [
    "test_size = len(test_dataset)\n",
    "\n",
    "test_size"
   ]
  },
  {
   "cell_type": "code",
   "execution_count": 22,
   "metadata": {},
   "outputs": [],
   "source": [
    "test_batch = data.DataLoader(test_dataset, batch_size = args.test_batch_size, \n",
    "                             shuffle=False, num_workers=args.num_workers_test, drop_last=False)"
   ]
  },
  {
   "cell_type": "code",
   "execution_count": 23,
   "metadata": {},
   "outputs": [],
   "source": [
    "loss_func_mse = nn.MSELoss(reduction='none')"
   ]
  },
  {
   "cell_type": "code",
   "execution_count": 24,
   "metadata": {},
   "outputs": [
    {
     "name": "stdout",
     "output_type": "stream",
     "text": [
      "Evaluation of ped2\n"
     ]
    }
   ],
   "source": [
    "# Loading the trained model\n",
    "model = torch.load(args.model_dir)\n",
    "\n",
    "model.cuda()\n",
    "m_items = torch.load(args.m_items_dir)\n",
    "labels = np.load('./data/frame_labels_'+args.dataset_type+'.npy')\n",
    "\n",
    "videos = OrderedDict()\n",
    "videos_list = sorted(glob.glob(os.path.join(test_folder, '*')))\n",
    "for video in videos_list:\n",
    "    video_name = video.split('/')[-1]\n",
    "    videos[video_name] = {}\n",
    "    videos[video_name]['path'] = video\n",
    "    videos[video_name]['frame'] = glob.glob(os.path.join(video, '*.jpg'))\n",
    "    videos[video_name]['frame'].sort()\n",
    "    videos[video_name]['length'] = len(videos[video_name]['frame'])\n",
    "\n",
    "labels_list = []\n",
    "label_length = 0\n",
    "psnr_list = {}\n",
    "feature_distance_list = {}\n",
    "\n",
    "print('Evaluation of', args.dataset_type)"
   ]
  },
  {
   "cell_type": "code",
   "execution_count": 25,
   "metadata": {},
   "outputs": [],
   "source": [
    "# Setting for video anomaly detection\n",
    "for video in sorted(videos_list):\n",
    "    video_name = video.split('/')[-1]\n",
    "    if args.method == 'pred':\n",
    "        labels_list = np.append(labels_list, labels[0][4+label_length:videos[video_name]['length']+label_length])\n",
    "    else:\n",
    "        labels_list = np.append(labels_list, labels[0][label_length:videos[video_name]['length']+label_length])\n",
    "    label_length += videos[video_name]['length']\n",
    "    psnr_list[video_name] = []\n",
    "    feature_distance_list[video_name] = []\n",
    "\n",
    "label_length = 0\n",
    "video_num = 0\n",
    "label_length += videos[videos_list[video_num].split('/')[-1]]['length']\n",
    "m_items_test = m_items.clone()\n",
    "\n",
    "model.eval()\n",
    "\n",
    "for k,(imgs) in enumerate(test_batch):\n",
    "    \n",
    "    if args.method == 'pred':\n",
    "        if k == label_length-4*(video_num+1):\n",
    "            video_num += 1\n",
    "            label_length += videos[videos_list[video_num].split('/')[-1]]['length']\n",
    "    else:\n",
    "        if k == label_length:\n",
    "            video_num += 1\n",
    "            label_length += videos[videos_list[video_num].split('/')[-1]]['length']\n",
    "\n",
    "    imgs = Variable(imgs).cuda()\n",
    "    \n",
    "    if args.method == 'pred':\n",
    "        outputs, feas, updated_feas, m_items_test, softmax_score_query, softmax_score_memory, _, _, _, compactness_loss = model.forward(imgs[:,0:3*4], m_items_test, False)\n",
    "        mse_imgs = torch.mean(loss_func_mse((outputs[0]+1)/2, (imgs[0,3*4:]+1)/2)).item()\n",
    "        mse_feas = compactness_loss.item()\n",
    "\n",
    "        # Calculating the threshold for updating at the test time\n",
    "        point_sc = point_score(outputs, imgs[:,3*4:])\n",
    "    \n",
    "    else:\n",
    "        outputs, feas, updated_feas, m_items_test, softmax_score_query, softmax_score_memory, compactness_loss = model.forward(imgs, m_items_test, False)\n",
    "        mse_imgs = torch.mean(loss_func_mse((outputs[0]+1)/2, (imgs[0]+1)/2)).item()\n",
    "        mse_feas = compactness_loss.item()\n",
    "\n",
    "        # Calculating the threshold for updating at the test time\n",
    "        point_sc = point_score(outputs, imgs)\n",
    "\n",
    "    if  point_sc < args.th:\n",
    "        query = F.normalize(feas, dim=1)\n",
    "        query = query.permute(0,2,3,1) # b X h X w X d\n",
    "        m_items_test = model.memory.update(query, m_items_test, False)\n",
    "\n",
    "    psnr_list[videos_list[video_num].split('/')[-1]].append(psnr(mse_imgs))\n",
    "    feature_distance_list[videos_list[video_num].split('/')[-1]].append(mse_feas)\n"
   ]
  },
  {
   "cell_type": "code",
   "execution_count": 26,
   "metadata": {},
   "outputs": [
    {
     "name": "stdout",
     "output_type": "stream",
     "text": [
      "The result of  ped2\n",
      "AUC:  95.0525335815933 %\n"
     ]
    }
   ],
   "source": [
    "\n",
    "# Measuring the abnormality score and the AUC\n",
    "anomaly_score_total_list = []\n",
    "for video in sorted(videos_list):\n",
    "    video_name = video.split('/')[-1]\n",
    "    anomaly_score_total_list += score_sum(anomaly_score_list(psnr_list[video_name]), \n",
    "                                     anomaly_score_list_inv(feature_distance_list[video_name]), args.alpha)\n",
    "\n",
    "anomaly_score_total_list = np.asarray(anomaly_score_total_list)\n",
    "\n",
    "accuracy = AUC(anomaly_score_total_list, np.expand_dims(1-labels_list, 0))\n",
    "\n",
    "print('The result of ', args.dataset_type)\n",
    "print('AUC: ', accuracy*100, '%')\n"
   ]
  },
  {
   "cell_type": "code",
   "execution_count": 29,
   "metadata": {},
   "outputs": [
    {
     "name": "stdout",
     "output_type": "stream",
     "text": [
      "Video: frames\\01, Anomaly Scores: [0.8538311964051183, 0.8587613025528202, 0.858068239058255, 0.8449592955699353, 0.9560647329998385, 0.866674001671047, 0.8760369801919062, 0.9282919908505692, 0.846161150972803, 0.9144195569032647, 0.879834812545706, 0.8617419631921139, 0.8467941692515291, 0.9164330306857799, 0.912708777232526, 0.9016367031192484, 0.9931332516061302, 0.8968549018731532, 0.8940770046057642, 0.917801491209522, 0.7993232001871802, 0.9240636777800406, 0.8756784236301092, 0.6874653867880945, 0.8460273159763956, 0.8593692904256506, 0.8414729247159527, 0.6069877442596272, 0.5812291234016891, 0.8132546148276344, 0.7729247910897451, 0.5475055267411, 0.6558832669526875, 0.685007882500986, 0.7145112265228102, 0.869607510299923, 0.8330037653933451, 0.9104277369878909, 0.815770714303244, 0.7824649565649591, 0.827940758446398, 0.8228830633486628, 0.7289823767284691, 0.706845105573322, 0.6172305563708813, 0.74896196754705, 0.704912511559774, 0.6516222440321847, 0.655298725423509, 0.5026007895248557, 0.5664918440048954, 0.7260800619593616, 0.7244697590679017, 0.619554884015606, 0.716399261758311, 0.7705060582337298, 0.7138536591670974, 0.6026926775465024, 0.6335442329767293, 0.5547895339354584, 0.5931242406293417, 0.7869413342745639, 0.8984258958241005, 0.8765455454451482, 0.8249827947588279, 0.7924782659504912, 0.7930727169418512, 0.7008102691035492, 0.795974268209948, 0.7374162620229403, 0.813730944931057, 0.6371196435124222, 0.7063523562639007, 0.7413103077936529, 0.7109127268939588, 0.6473354649847782, 0.7635250905578382, 0.8096799024899248, 0.798387280950248, 0.7716581791122856, 0.6468958318734799, 0.6713910883002315, 0.6406162703194334, 0.7744512408260182, 0.752730877696941, 0.6802056027368738, 0.7256376857523292, 0.7806716018941074, 0.6821385662827468, 0.6984229979424925, 0.7342093705316772, 0.6910884746576295, 0.6580438610647055, 0.7796974574005616, 0.7944176637786744, 0.7723312884716101, 0.7221121098956891, 0.48276198163989614, 0.6783131509679907, 0.6136475166398225, 0.42550274762540913, 0.6360303481185178, 0.5375461286760498, 0.361537315700854, 0.3569315624767696, 0.4534291150999708, 0.5483784067124957, 0.5197716924863072, 0.645884576588312, 0.5981480022553234, 0.5849223167150179, 0.677565075160265, 0.6729150337974291, 0.5812136710015181, 0.6506086620105943, 0.580405730352015, 0.47838234147970016, 0.6933078462132349, 0.5408062067598471, 0.6921882170961278, 0.7205602889835991, 0.6312681020713184, 0.6516221798280175, 0.6518561451809319, 0.6548417592665787, 0.49719141546536394, 0.42933221375505853, 0.48801845107282016, 0.34459091305106904, 0.432801331068275, 0.46912523472584056, 0.5249290871234504, 0.44837039672721124, 0.45560495625476455, 0.46855375998964177, 0.29690082650200667, 0.44398972230287287, 0.4934604047003407, 0.48947367710926193, 0.4712895194449057, 0.40962323387978666, 0.401793546747413, 0.45113237917167115, 0.5421280359845184, 0.3422803297792774, 0.4538161075657968, 0.4929583138168977, 0.481124967214463, 0.5549754842387974, 0.4108022283191861, 0.29195206984242966, 0.4157841491902459, 0.3136025739907606, 0.29904224983427113, 0.31530934877641026, 0.35097195847591367, 0.34335899089138566, 0.38628202551516394, 0.4855210602000526, 0.41169959540921386, 0.28371522485170875, 0.22321014934333677, 0.2869352293789524, 0.3654500885793675, 0.3121466315879408, 0.34477353417425516, 0.37951438708951024, 0.4619978803965986, 0.3850694486105964, 0.31330116853381523, 0.2602386864034284, 0.3658776130811185, 0.31552328925185075, 0.2582055638977188, 0.28185285841019503, 0.21516289502827912]\n",
      "Video: frames\\02, Anomaly Scores: [0.7686564526666446, 0.8427532797024435, 0.8293069513540695, 0.8262024201982969, 0.8532067368566942, 0.8289581671981047, 0.8738742065960176, 0.8648532191624463, 0.7849032374709826, 0.8358556116289969, 0.7917783763141657, 0.7371812791729763, 0.7388022876012712, 0.8412006095402396, 0.8208388016493392, 0.7459224392640926, 0.8189645026439645, 0.8126756618416109, 0.7697286089401205, 0.7309436103706518, 0.6922885834870157, 0.8169332005082406, 0.8765988897642522, 0.8658231056172935, 0.8681470092723566, 0.7960931579829882, 0.7978757770583451, 0.8127461208938882, 0.7388781562075191, 0.7407809858098556, 0.7243949183017453, 0.8353999234706535, 0.7496841996341224, 0.7780149008420918, 0.8441507378938351, 0.8576325839549668, 0.7934385549657068, 0.7690183282398073, 0.7198884611251044, 0.7326641144514487, 0.7546908527858995, 0.7684525149415017, 0.845493316361288, 0.8411807063455224, 0.8091639799273076, 0.8796016690387278, 0.8786577953602029, 0.8928352404043313, 0.8741211491714547, 0.8733955851192818, 0.8543063284917143, 0.8775792241591823, 0.9166287674115834, 0.9013316090061245, 0.930735004620636, 0.9300677946489214, 0.8506947519359183, 0.8479165225922937, 0.8926249338480243, 0.9209883680619034, 0.9086095340148679, 0.9487484948273351, 0.9378975888405288, 0.9096048570980173, 0.8464078462039648, 0.9517524272232143, 0.9665058661189241, 0.9550478392634637, 0.8920974310628134, 0.9434419785278827, 0.9452070930859822, 0.99311467324281, 0.9087253984622585, 0.8331335033542477, 0.8401640493745702, 0.8322266962800287, 0.8296570748761403, 0.853294899996359, 0.9459338261573949, 0.8470985674317209, 0.7501875850389916, 0.885307369651559, 0.7647446580399292, 0.7768664759368595, 0.779933550060496, 0.813133113390416, 0.8789425519766373, 0.8260649330736844, 0.616236360568162, 0.6293071334925411, 0.6065958178040922, 0.5867118921952609, 0.5642379491533667, 0.5958370324894646, 0.43977790889305923, 0.5073343641067967, 0.4238147829236419, 0.471342968340796, 0.4181508399175835, 0.3988883649734165, 0.49786284119371554, 0.36448244400923674, 0.45061660587876196, 0.43686391992673895, 0.4520719813484143, 0.43103799496852224, 0.36240969817906016, 0.23709453123231566, 0.3309370260242719, 0.28697668172676405, 0.4110914642272042, 0.4381175642523693, 0.44042946942916117, 0.47554271344882, 0.3877569601517737, 0.30662064721902393, 0.34790465448825514, 0.3924157968298884, 0.3460194522258462, 0.41751526288087737, 0.4122503296248607, 0.3737654547197561, 0.4103558497567866, 0.37220045940008034, 0.29398914284857236, 0.33075680607801067, 0.41167848118799355, 0.2986460569871733, 0.33209533502639876, 0.2951327940592935, 0.35446756351097497, 0.3944857211260728, 0.18705194760567068, 0.046195671382064436, 0.20379706468299397, 0.15081420114033867, 0.16988194273121326, 0.21460019645269438, 0.13546229907510154, 0.12058372640734658, 0.11772319483763666, 0.14998048685241677, 0.22476429570059853, 0.35460928548658366, 0.3095372368597198, 0.3231614625924297, 0.3037980254717465, 0.41608229688067155, 0.4278280935071467, 0.46701551908207356, 0.4726868508875171, 0.3999165669106201, 0.42345902752764325, 0.38337004100028765, 0.4280030636062832, 0.22699278771158998, 0.395244355900999, 0.43550380171302683, 0.4235131509766462, 0.45989105520960966, 0.45349456454054254, 0.35142628890278393, 0.39992373306876916, 0.4338675130393596, 0.2881929561849948, 0.34535935802334794, 0.41773694762701585, 0.37828241353114683, 0.2732704930512173, 0.4361265462649794, 0.43330654069201174, 0.5422646377389538, 0.38212452417358744, 0.4274211907046465, 0.3439997050050764, 0.3045352191103911]\n"
     ]
    },
    {
     "ename": "ValueError",
     "evalue": "Found input variables with inconsistent numbers of samples: [352, 704]",
     "output_type": "error",
     "traceback": [
      "\u001b[1;31m---------------------------------------------------------------------------\u001b[0m",
      "\u001b[1;31mValueError\u001b[0m                                Traceback (most recent call last)",
      "\u001b[1;32m<ipython-input-29-d2d4471539a0>\u001b[0m in \u001b[0;36m<module>\u001b[1;34m\u001b[0m\n\u001b[0;32m     17\u001b[0m     \u001b[0mprint\u001b[0m\u001b[1;33m(\u001b[0m\u001b[1;34mf\"Video: {video_name}, Anomaly Scores: {anomaly_scores}\"\u001b[0m\u001b[1;33m)\u001b[0m\u001b[1;33m\u001b[0m\u001b[1;33m\u001b[0m\u001b[0m\n\u001b[0;32m     18\u001b[0m \u001b[1;33m\u001b[0m\u001b[0m\n\u001b[1;32m---> 19\u001b[1;33m \u001b[0maccuracy\u001b[0m \u001b[1;33m=\u001b[0m \u001b[0mAUC\u001b[0m\u001b[1;33m(\u001b[0m\u001b[0manomaly_score_total_list\u001b[0m\u001b[1;33m,\u001b[0m \u001b[0mnp\u001b[0m\u001b[1;33m.\u001b[0m\u001b[0mexpand_dims\u001b[0m\u001b[1;33m(\u001b[0m\u001b[1;36m1\u001b[0m\u001b[1;33m-\u001b[0m\u001b[0mlabels_list\u001b[0m\u001b[1;33m,\u001b[0m \u001b[1;36m0\u001b[0m\u001b[1;33m)\u001b[0m\u001b[1;33m)\u001b[0m\u001b[1;33m\u001b[0m\u001b[1;33m\u001b[0m\u001b[0m\n\u001b[0m\u001b[0;32m     20\u001b[0m \u001b[1;33m\u001b[0m\u001b[0m\n\u001b[0;32m     21\u001b[0m \u001b[0mprint\u001b[0m\u001b[1;33m(\u001b[0m\u001b[1;34m'The result of '\u001b[0m\u001b[1;33m,\u001b[0m \u001b[0margs\u001b[0m\u001b[1;33m.\u001b[0m\u001b[0mdataset_type\u001b[0m\u001b[1;33m)\u001b[0m\u001b[1;33m\u001b[0m\u001b[1;33m\u001b[0m\u001b[0m\n",
      "\u001b[1;32mf:\\Academic\\4th year\\FYP\\Models\\Model3_frame\\utils.py\u001b[0m in \u001b[0;36mAUC\u001b[1;34m(anomal_scores, labels)\u001b[0m\n\u001b[0;32m     64\u001b[0m \u001b[1;33m\u001b[0m\u001b[0m\n\u001b[0;32m     65\u001b[0m \u001b[1;32mdef\u001b[0m \u001b[0mAUC\u001b[0m\u001b[1;33m(\u001b[0m\u001b[0manomal_scores\u001b[0m\u001b[1;33m,\u001b[0m \u001b[0mlabels\u001b[0m\u001b[1;33m)\u001b[0m\u001b[1;33m:\u001b[0m\u001b[1;33m\u001b[0m\u001b[1;33m\u001b[0m\u001b[0m\n\u001b[1;32m---> 66\u001b[1;33m     \u001b[0mframe_auc\u001b[0m \u001b[1;33m=\u001b[0m \u001b[0mroc_auc_score\u001b[0m\u001b[1;33m(\u001b[0m\u001b[0my_true\u001b[0m\u001b[1;33m=\u001b[0m\u001b[0mnp\u001b[0m\u001b[1;33m.\u001b[0m\u001b[0msqueeze\u001b[0m\u001b[1;33m(\u001b[0m\u001b[0mlabels\u001b[0m\u001b[1;33m,\u001b[0m \u001b[0maxis\u001b[0m\u001b[1;33m=\u001b[0m\u001b[1;36m0\u001b[0m\u001b[1;33m)\u001b[0m\u001b[1;33m,\u001b[0m \u001b[0my_score\u001b[0m\u001b[1;33m=\u001b[0m\u001b[0mnp\u001b[0m\u001b[1;33m.\u001b[0m\u001b[0msqueeze\u001b[0m\u001b[1;33m(\u001b[0m\u001b[0manomal_scores\u001b[0m\u001b[1;33m)\u001b[0m\u001b[1;33m)\u001b[0m\u001b[1;33m\u001b[0m\u001b[1;33m\u001b[0m\u001b[0m\n\u001b[0m\u001b[0;32m     67\u001b[0m     \u001b[1;32mreturn\u001b[0m \u001b[0mframe_auc\u001b[0m\u001b[1;33m\u001b[0m\u001b[1;33m\u001b[0m\u001b[0m\n\u001b[0;32m     68\u001b[0m \u001b[1;33m\u001b[0m\u001b[0m\n",
      "\u001b[1;32mf:\\Academic\\4th year\\FYP\\Models\\Model3_frame\\.venv\\lib\\site-packages\\sklearn\\utils\\validation.py\u001b[0m in \u001b[0;36minner_f\u001b[1;34m(*args, **kwargs)\u001b[0m\n\u001b[0;32m     61\u001b[0m             \u001b[0mextra_args\u001b[0m \u001b[1;33m=\u001b[0m \u001b[0mlen\u001b[0m\u001b[1;33m(\u001b[0m\u001b[0margs\u001b[0m\u001b[1;33m)\u001b[0m \u001b[1;33m-\u001b[0m \u001b[0mlen\u001b[0m\u001b[1;33m(\u001b[0m\u001b[0mall_args\u001b[0m\u001b[1;33m)\u001b[0m\u001b[1;33m\u001b[0m\u001b[1;33m\u001b[0m\u001b[0m\n\u001b[0;32m     62\u001b[0m             \u001b[1;32mif\u001b[0m \u001b[0mextra_args\u001b[0m \u001b[1;33m<=\u001b[0m \u001b[1;36m0\u001b[0m\u001b[1;33m:\u001b[0m\u001b[1;33m\u001b[0m\u001b[1;33m\u001b[0m\u001b[0m\n\u001b[1;32m---> 63\u001b[1;33m                 \u001b[1;32mreturn\u001b[0m \u001b[0mf\u001b[0m\u001b[1;33m(\u001b[0m\u001b[1;33m*\u001b[0m\u001b[0margs\u001b[0m\u001b[1;33m,\u001b[0m \u001b[1;33m**\u001b[0m\u001b[0mkwargs\u001b[0m\u001b[1;33m)\u001b[0m\u001b[1;33m\u001b[0m\u001b[1;33m\u001b[0m\u001b[0m\n\u001b[0m\u001b[0;32m     64\u001b[0m \u001b[1;33m\u001b[0m\u001b[0m\n\u001b[0;32m     65\u001b[0m             \u001b[1;31m# extra_args > 0\u001b[0m\u001b[1;33m\u001b[0m\u001b[1;33m\u001b[0m\u001b[1;33m\u001b[0m\u001b[0m\n",
      "\u001b[1;32mf:\\Academic\\4th year\\FYP\\Models\\Model3_frame\\.venv\\lib\\site-packages\\sklearn\\metrics\\_ranking.py\u001b[0m in \u001b[0;36mroc_auc_score\u001b[1;34m(y_true, y_score, average, sample_weight, max_fpr, multi_class, labels)\u001b[0m\n\u001b[0;32m    543\u001b[0m                                              max_fpr=max_fpr),\n\u001b[0;32m    544\u001b[0m                                      \u001b[0my_true\u001b[0m\u001b[1;33m,\u001b[0m \u001b[0my_score\u001b[0m\u001b[1;33m,\u001b[0m \u001b[0maverage\u001b[0m\u001b[1;33m,\u001b[0m\u001b[1;33m\u001b[0m\u001b[1;33m\u001b[0m\u001b[0m\n\u001b[1;32m--> 545\u001b[1;33m                                      sample_weight=sample_weight)\n\u001b[0m\u001b[0;32m    546\u001b[0m     \u001b[1;32melse\u001b[0m\u001b[1;33m:\u001b[0m  \u001b[1;31m# multilabel-indicator\u001b[0m\u001b[1;33m\u001b[0m\u001b[1;33m\u001b[0m\u001b[0m\n\u001b[0;32m    547\u001b[0m         return _average_binary_score(partial(_binary_roc_auc_score,\n",
      "\u001b[1;32mf:\\Academic\\4th year\\FYP\\Models\\Model3_frame\\.venv\\lib\\site-packages\\sklearn\\metrics\\_base.py\u001b[0m in \u001b[0;36m_average_binary_score\u001b[1;34m(binary_metric, y_true, y_score, average, sample_weight)\u001b[0m\n\u001b[0;32m     75\u001b[0m \u001b[1;33m\u001b[0m\u001b[0m\n\u001b[0;32m     76\u001b[0m     \u001b[1;32mif\u001b[0m \u001b[0my_type\u001b[0m \u001b[1;33m==\u001b[0m \u001b[1;34m\"binary\"\u001b[0m\u001b[1;33m:\u001b[0m\u001b[1;33m\u001b[0m\u001b[1;33m\u001b[0m\u001b[0m\n\u001b[1;32m---> 77\u001b[1;33m         \u001b[1;32mreturn\u001b[0m \u001b[0mbinary_metric\u001b[0m\u001b[1;33m(\u001b[0m\u001b[0my_true\u001b[0m\u001b[1;33m,\u001b[0m \u001b[0my_score\u001b[0m\u001b[1;33m,\u001b[0m \u001b[0msample_weight\u001b[0m\u001b[1;33m=\u001b[0m\u001b[0msample_weight\u001b[0m\u001b[1;33m)\u001b[0m\u001b[1;33m\u001b[0m\u001b[1;33m\u001b[0m\u001b[0m\n\u001b[0m\u001b[0;32m     78\u001b[0m \u001b[1;33m\u001b[0m\u001b[0m\n\u001b[0;32m     79\u001b[0m     \u001b[0mcheck_consistent_length\u001b[0m\u001b[1;33m(\u001b[0m\u001b[0my_true\u001b[0m\u001b[1;33m,\u001b[0m \u001b[0my_score\u001b[0m\u001b[1;33m,\u001b[0m \u001b[0msample_weight\u001b[0m\u001b[1;33m)\u001b[0m\u001b[1;33m\u001b[0m\u001b[1;33m\u001b[0m\u001b[0m\n",
      "\u001b[1;32mf:\\Academic\\4th year\\FYP\\Models\\Model3_frame\\.venv\\lib\\site-packages\\sklearn\\metrics\\_ranking.py\u001b[0m in \u001b[0;36m_binary_roc_auc_score\u001b[1;34m(y_true, y_score, sample_weight, max_fpr)\u001b[0m\n\u001b[0;32m    329\u001b[0m \u001b[1;33m\u001b[0m\u001b[0m\n\u001b[0;32m    330\u001b[0m     fpr, tpr, _ = roc_curve(y_true, y_score,\n\u001b[1;32m--> 331\u001b[1;33m                             sample_weight=sample_weight)\n\u001b[0m\u001b[0;32m    332\u001b[0m     \u001b[1;32mif\u001b[0m \u001b[0mmax_fpr\u001b[0m \u001b[1;32mis\u001b[0m \u001b[1;32mNone\u001b[0m \u001b[1;32mor\u001b[0m \u001b[0mmax_fpr\u001b[0m \u001b[1;33m==\u001b[0m \u001b[1;36m1\u001b[0m\u001b[1;33m:\u001b[0m\u001b[1;33m\u001b[0m\u001b[1;33m\u001b[0m\u001b[0m\n\u001b[0;32m    333\u001b[0m         \u001b[1;32mreturn\u001b[0m \u001b[0mauc\u001b[0m\u001b[1;33m(\u001b[0m\u001b[0mfpr\u001b[0m\u001b[1;33m,\u001b[0m \u001b[0mtpr\u001b[0m\u001b[1;33m)\u001b[0m\u001b[1;33m\u001b[0m\u001b[1;33m\u001b[0m\u001b[0m\n",
      "\u001b[1;32mf:\\Academic\\4th year\\FYP\\Models\\Model3_frame\\.venv\\lib\\site-packages\\sklearn\\utils\\validation.py\u001b[0m in \u001b[0;36minner_f\u001b[1;34m(*args, **kwargs)\u001b[0m\n\u001b[0;32m     61\u001b[0m             \u001b[0mextra_args\u001b[0m \u001b[1;33m=\u001b[0m \u001b[0mlen\u001b[0m\u001b[1;33m(\u001b[0m\u001b[0margs\u001b[0m\u001b[1;33m)\u001b[0m \u001b[1;33m-\u001b[0m \u001b[0mlen\u001b[0m\u001b[1;33m(\u001b[0m\u001b[0mall_args\u001b[0m\u001b[1;33m)\u001b[0m\u001b[1;33m\u001b[0m\u001b[1;33m\u001b[0m\u001b[0m\n\u001b[0;32m     62\u001b[0m             \u001b[1;32mif\u001b[0m \u001b[0mextra_args\u001b[0m \u001b[1;33m<=\u001b[0m \u001b[1;36m0\u001b[0m\u001b[1;33m:\u001b[0m\u001b[1;33m\u001b[0m\u001b[1;33m\u001b[0m\u001b[0m\n\u001b[1;32m---> 63\u001b[1;33m                 \u001b[1;32mreturn\u001b[0m \u001b[0mf\u001b[0m\u001b[1;33m(\u001b[0m\u001b[1;33m*\u001b[0m\u001b[0margs\u001b[0m\u001b[1;33m,\u001b[0m \u001b[1;33m**\u001b[0m\u001b[0mkwargs\u001b[0m\u001b[1;33m)\u001b[0m\u001b[1;33m\u001b[0m\u001b[1;33m\u001b[0m\u001b[0m\n\u001b[0m\u001b[0;32m     64\u001b[0m \u001b[1;33m\u001b[0m\u001b[0m\n\u001b[0;32m     65\u001b[0m             \u001b[1;31m# extra_args > 0\u001b[0m\u001b[1;33m\u001b[0m\u001b[1;33m\u001b[0m\u001b[1;33m\u001b[0m\u001b[0m\n",
      "\u001b[1;32mf:\\Academic\\4th year\\FYP\\Models\\Model3_frame\\.venv\\lib\\site-packages\\sklearn\\metrics\\_ranking.py\u001b[0m in \u001b[0;36mroc_curve\u001b[1;34m(y_true, y_score, pos_label, sample_weight, drop_intermediate)\u001b[0m\n\u001b[0;32m    912\u001b[0m     \"\"\"\n\u001b[0;32m    913\u001b[0m     fps, tps, thresholds = _binary_clf_curve(\n\u001b[1;32m--> 914\u001b[1;33m         y_true, y_score, pos_label=pos_label, sample_weight=sample_weight)\n\u001b[0m\u001b[0;32m    915\u001b[0m \u001b[1;33m\u001b[0m\u001b[0m\n\u001b[0;32m    916\u001b[0m     \u001b[1;31m# Attempt to drop thresholds corresponding to points in between and\u001b[0m\u001b[1;33m\u001b[0m\u001b[1;33m\u001b[0m\u001b[1;33m\u001b[0m\u001b[0m\n",
      "\u001b[1;32mf:\\Academic\\4th year\\FYP\\Models\\Model3_frame\\.venv\\lib\\site-packages\\sklearn\\metrics\\_ranking.py\u001b[0m in \u001b[0;36m_binary_clf_curve\u001b[1;34m(y_true, y_score, pos_label, sample_weight)\u001b[0m\n\u001b[0;32m    691\u001b[0m         \u001b[1;32mraise\u001b[0m \u001b[0mValueError\u001b[0m\u001b[1;33m(\u001b[0m\u001b[1;34m\"{0} format is not supported\"\u001b[0m\u001b[1;33m.\u001b[0m\u001b[0mformat\u001b[0m\u001b[1;33m(\u001b[0m\u001b[0my_type\u001b[0m\u001b[1;33m)\u001b[0m\u001b[1;33m)\u001b[0m\u001b[1;33m\u001b[0m\u001b[1;33m\u001b[0m\u001b[0m\n\u001b[0;32m    692\u001b[0m \u001b[1;33m\u001b[0m\u001b[0m\n\u001b[1;32m--> 693\u001b[1;33m     \u001b[0mcheck_consistent_length\u001b[0m\u001b[1;33m(\u001b[0m\u001b[0my_true\u001b[0m\u001b[1;33m,\u001b[0m \u001b[0my_score\u001b[0m\u001b[1;33m,\u001b[0m \u001b[0msample_weight\u001b[0m\u001b[1;33m)\u001b[0m\u001b[1;33m\u001b[0m\u001b[1;33m\u001b[0m\u001b[0m\n\u001b[0m\u001b[0;32m    694\u001b[0m     \u001b[0my_true\u001b[0m \u001b[1;33m=\u001b[0m \u001b[0mcolumn_or_1d\u001b[0m\u001b[1;33m(\u001b[0m\u001b[0my_true\u001b[0m\u001b[1;33m)\u001b[0m\u001b[1;33m\u001b[0m\u001b[1;33m\u001b[0m\u001b[0m\n\u001b[0;32m    695\u001b[0m     \u001b[0my_score\u001b[0m \u001b[1;33m=\u001b[0m \u001b[0mcolumn_or_1d\u001b[0m\u001b[1;33m(\u001b[0m\u001b[0my_score\u001b[0m\u001b[1;33m)\u001b[0m\u001b[1;33m\u001b[0m\u001b[1;33m\u001b[0m\u001b[0m\n",
      "\u001b[1;32mf:\\Academic\\4th year\\FYP\\Models\\Model3_frame\\.venv\\lib\\site-packages\\sklearn\\utils\\validation.py\u001b[0m in \u001b[0;36mcheck_consistent_length\u001b[1;34m(*arrays)\u001b[0m\n\u001b[0;32m    318\u001b[0m     \u001b[1;32mif\u001b[0m \u001b[0mlen\u001b[0m\u001b[1;33m(\u001b[0m\u001b[0muniques\u001b[0m\u001b[1;33m)\u001b[0m \u001b[1;33m>\u001b[0m \u001b[1;36m1\u001b[0m\u001b[1;33m:\u001b[0m\u001b[1;33m\u001b[0m\u001b[1;33m\u001b[0m\u001b[0m\n\u001b[0;32m    319\u001b[0m         raise ValueError(\"Found input variables with inconsistent numbers of\"\n\u001b[1;32m--> 320\u001b[1;33m                          \" samples: %r\" % [int(l) for l in lengths])\n\u001b[0m\u001b[0;32m    321\u001b[0m \u001b[1;33m\u001b[0m\u001b[0m\n\u001b[0;32m    322\u001b[0m \u001b[1;33m\u001b[0m\u001b[0m\n",
      "\u001b[1;31mValueError\u001b[0m: Found input variables with inconsistent numbers of samples: [352, 704]"
     ]
    }
   ],
   "source": [
    "anomaly_scores_per_video = {}  # Dictionary to store anomaly scores per video\n",
    "\n",
    "for video in sorted(videos_list):\n",
    "    video_name = video.split('/')[-1]\n",
    "    anomaly_scores = score_sum(anomaly_score_list(psnr_list[video_name]), \n",
    "                               anomaly_score_list_inv(feature_distance_list[video_name]), args.alpha)\n",
    "    \n",
    "    # Store anomaly scores for each video\n",
    "    anomaly_scores_per_video[video_name] = anomaly_scores\n",
    "    \n",
    "    # Append anomaly scores to the total list\n",
    "    if 'anomaly_score_total_list' not in locals():\n",
    "        anomaly_score_total_list = anomaly_scores\n",
    "    else:\n",
    "        anomaly_score_total_list = np.concatenate((anomaly_score_total_list, anomaly_scores))\n",
    "\n",
    "    print(f\"Video: {video_name}, Anomaly Scores: {anomaly_scores}\")\n",
    "\n",
    "accuracy = AUC(anomaly_score_total_list, np.expand_dims(1-labels_list, 0))\n",
    "\n",
    "print('The result of ', args.dataset_type)\n",
    "print('AUC: ', accuracy*100, '%')\n",
    "\n",
    "# To print the anomaly score of each data frame folder separately\n",
    "for video_name, scores in anomaly_scores_per_video.items():\n",
    "    print(f\"Anomaly Scores for {video_name}: {scores}\")\n"
   ]
  }
 ],
 "metadata": {
  "kernelspec": {
   "display_name": ".venv",
   "language": "python",
   "name": "python3"
  },
  "language_info": {
   "codemirror_mode": {
    "name": "ipython",
    "version": 3
   },
   "file_extension": ".py",
   "mimetype": "text/x-python",
   "name": "python",
   "nbconvert_exporter": "python",
   "pygments_lexer": "ipython3",
   "version": "3.6.13"
  }
 },
 "nbformat": 4,
 "nbformat_minor": 2
}
