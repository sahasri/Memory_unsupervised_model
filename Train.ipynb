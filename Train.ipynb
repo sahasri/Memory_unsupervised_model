{
 "cells": [
  {
   "cell_type": "code",
   "execution_count": 1,
   "metadata": {},
   "outputs": [],
   "source": [
    "import numpy as np\n",
    "import os\n",
    "import sys\n",
    "import torch\n",
    "import torch.nn as nn\n",
    "import torch.nn.functional as F\n",
    "import torch.optim as optim\n",
    "import torchvision\n",
    "import torch.nn.init as init\n",
    "import torch.utils.data as data\n",
    "import torch.utils.data.dataset as dataset\n",
    "import torchvision.datasets as dset\n",
    "import torchvision.transforms as transforms\n",
    "from torch.autograd import Variable\n",
    "import torchvision.utils as v_utils\n",
    "import matplotlib.pyplot as plt\n",
    "import cv2\n",
    "import math\n",
    "from collections import OrderedDict\n",
    "import copy\n",
    "import time\n",
    "from model.utils import DataLoader\n",
    "from sklearn.metrics import roc_auc_score\n",
    "from utils import *\n",
    "import random\n",
    "\n",
    "import argparse"
   ]
  },
  {
   "cell_type": "code",
   "execution_count": 2,
   "metadata": {},
   "outputs": [],
   "source": [
    "# Define the dictionary containing your arguments\n",
    "args_dict = {\n",
    "    'gpus': '0',\n",
    "    'batch_size': 2,\n",
    "    'test_batch_size': 1,\n",
    "    'epochs': 10,\n",
    "    'loss_compact': 0.1,\n",
    "    'loss_separate': 0.1,\n",
    "    'h': 128,\n",
    "    'w': 128,\n",
    "    'c': 3,\n",
    "    'lr': 2e-4,\n",
    "    'method': 'pred',\n",
    "    't_length': 5,\n",
    "    'fdim': 512,\n",
    "    'mdim': 512,\n",
    "    'msize': 10,\n",
    "    'num_workers': 2,\n",
    "    'num_workers_test': 1,\n",
    "    'dataset_type': 'ped2',\n",
    "    'dataset_path': './dataset',\n",
    "    'exp_dir': 'log'\n",
    "}"
   ]
  },
  {
   "cell_type": "code",
   "execution_count": 3,
   "metadata": {},
   "outputs": [],
   "source": [
    "# Create an ArgumentParser instance\n",
    "parser = argparse.ArgumentParser(description=\"MNAD\")\n",
    "\n",
    "# Add arguments to the parser\n",
    "for arg, value in args_dict.items():\n",
    "    parser.add_argument(f'--{arg}', type=type(value), default=value)\n",
    "\n",
    "# Parse the arguments\n",
    "args = parser.parse_args([])"
   ]
  },
  {
   "cell_type": "code",
   "execution_count": 4,
   "metadata": {},
   "outputs": [],
   "source": [
    "os.environ[\"CUDA_DEVICE_ORDER\"]=\"PCI_BUS_ID\"\n",
    "if args.gpus is None:\n",
    "    gpus = \"0\"\n",
    "    os.environ[\"CUDA_VISIBLE_DEVICES\"]= gpus\n",
    "else:\n",
    "    gpus = \"\"\n",
    "    for i in range(len(args.gpus)):\n",
    "        gpus = gpus + args.gpus[i] + \",\"\n",
    "    os.environ[\"CUDA_VISIBLE_DEVICES\"]= gpus[:-1]"
   ]
  },
  {
   "cell_type": "code",
   "execution_count": 5,
   "metadata": {},
   "outputs": [],
   "source": [
    "torch.backends.cudnn.enabled = True"
   ]
  },
  {
   "cell_type": "code",
   "execution_count": 6,
   "metadata": {},
   "outputs": [],
   "source": [
    "train_folder = args.dataset_path+\"/\"+args.dataset_type+\"/training/frames\"\n",
    "test_folder = args.dataset_path+\"/\"+args.dataset_type+\"/testing/frames\""
   ]
  },
  {
   "cell_type": "code",
   "execution_count": 7,
   "metadata": {},
   "outputs": [],
   "source": [
    "# Loading dataset\n",
    "train_dataset = DataLoader(train_folder, transforms.Compose([\n",
    "             transforms.ToTensor(),          \n",
    "             ]), resize_height=args.h, resize_width=args.w, time_step=args.t_length-1)\n",
    "\n",
    "test_dataset = DataLoader(test_folder, transforms.Compose([\n",
    "             transforms.ToTensor(),            \n",
    "             ]), resize_height=args.h, resize_width=args.w, time_step=args.t_length-1)"
   ]
  },
  {
   "cell_type": "code",
   "execution_count": 8,
   "metadata": {},
   "outputs": [],
   "source": [
    "transform = transforms.Compose([\n",
    "    transforms.ToTensor()\n",
    "])\n",
    "\n",
    "# Initialize your custom DataLoader\n",
    "resize_height = 128  # Example resize height\n",
    "resize_width = 128   # Example resize width\n",
    "time_step = 4        # Example time step\n",
    "num_pred = 1         # Example number of predictions\n",
    "custom_dataloader = DataLoader(train_folder, transform, resize_height, resize_width, time_step, num_pred)\n",
    "\n",
    "# Now, you can iterate over your DataLoader\n",
    "#for batch in enumerate(custom_dataloader):\n",
    "    # Your batch processing logic here\n",
    "#    print(batch)  # Example: printing the shape of the batch"
   ]
  },
  {
   "cell_type": "code",
   "execution_count": 9,
   "metadata": {},
   "outputs": [
    {
     "data": {
      "text/plain": [
       "(408, 352)"
      ]
     },
     "execution_count": 9,
     "metadata": {},
     "output_type": "execute_result"
    }
   ],
   "source": [
    "train_size = len(train_dataset)\n",
    "test_size = len(test_dataset)\n",
    "\n",
    "train_size, test_size"
   ]
  },
  {
   "cell_type": "code",
   "execution_count": 10,
   "metadata": {},
   "outputs": [],
   "source": [
    "train_batch = data.DataLoader(train_dataset, batch_size = args.batch_size, \n",
    "                              shuffle=True, num_workers=args.num_workers, drop_last=True)\n",
    "test_batch = data.DataLoader(test_dataset, batch_size = args.test_batch_size, \n",
    "                             shuffle=False, num_workers=args.num_workers_test, drop_last=False)"
   ]
  },
  {
   "cell_type": "code",
   "execution_count": 11,
   "metadata": {},
   "outputs": [
    {
     "data": {
      "text/plain": [
       "convAE(\n",
       "  (encoder): Encoder(\n",
       "    (moduleConv1): Sequential(\n",
       "      (0): Conv2d(12, 64, kernel_size=(3, 3), stride=(1, 1), padding=(1, 1))\n",
       "      (1): BatchNorm2d(64, eps=1e-05, momentum=0.1, affine=True, track_running_stats=True)\n",
       "      (2): ReLU()\n",
       "      (3): Conv2d(64, 64, kernel_size=(3, 3), stride=(1, 1), padding=(1, 1))\n",
       "      (4): BatchNorm2d(64, eps=1e-05, momentum=0.1, affine=True, track_running_stats=True)\n",
       "      (5): ReLU()\n",
       "    )\n",
       "    (modulePool1): MaxPool2d(kernel_size=2, stride=2, padding=0, dilation=1, ceil_mode=False)\n",
       "    (moduleConv2): Sequential(\n",
       "      (0): Conv2d(64, 128, kernel_size=(3, 3), stride=(1, 1), padding=(1, 1))\n",
       "      (1): BatchNorm2d(128, eps=1e-05, momentum=0.1, affine=True, track_running_stats=True)\n",
       "      (2): ReLU()\n",
       "      (3): Conv2d(128, 128, kernel_size=(3, 3), stride=(1, 1), padding=(1, 1))\n",
       "      (4): BatchNorm2d(128, eps=1e-05, momentum=0.1, affine=True, track_running_stats=True)\n",
       "      (5): ReLU()\n",
       "    )\n",
       "    (modulePool2): MaxPool2d(kernel_size=2, stride=2, padding=0, dilation=1, ceil_mode=False)\n",
       "    (moduleConv3): Sequential(\n",
       "      (0): Conv2d(128, 256, kernel_size=(3, 3), stride=(1, 1), padding=(1, 1))\n",
       "      (1): BatchNorm2d(256, eps=1e-05, momentum=0.1, affine=True, track_running_stats=True)\n",
       "      (2): ReLU()\n",
       "      (3): Conv2d(256, 256, kernel_size=(3, 3), stride=(1, 1), padding=(1, 1))\n",
       "      (4): BatchNorm2d(256, eps=1e-05, momentum=0.1, affine=True, track_running_stats=True)\n",
       "      (5): ReLU()\n",
       "    )\n",
       "    (modulePool3): MaxPool2d(kernel_size=2, stride=2, padding=0, dilation=1, ceil_mode=False)\n",
       "    (moduleConv4): Sequential(\n",
       "      (0): Conv2d(256, 512, kernel_size=(3, 3), stride=(1, 1), padding=(1, 1))\n",
       "      (1): BatchNorm2d(512, eps=1e-05, momentum=0.1, affine=True, track_running_stats=True)\n",
       "      (2): ReLU()\n",
       "      (3): Conv2d(512, 512, kernel_size=(3, 3), stride=(1, 1), padding=(1, 1))\n",
       "    )\n",
       "    (moduleBatchNorm): BatchNorm2d(512, eps=1e-05, momentum=0.1, affine=True, track_running_stats=True)\n",
       "    (moduleReLU): ReLU()\n",
       "  )\n",
       "  (decoder): Decoder(\n",
       "    (moduleConv): Sequential(\n",
       "      (0): Conv2d(1024, 512, kernel_size=(3, 3), stride=(1, 1), padding=(1, 1))\n",
       "      (1): BatchNorm2d(512, eps=1e-05, momentum=0.1, affine=True, track_running_stats=True)\n",
       "      (2): ReLU()\n",
       "      (3): Conv2d(512, 512, kernel_size=(3, 3), stride=(1, 1), padding=(1, 1))\n",
       "      (4): BatchNorm2d(512, eps=1e-05, momentum=0.1, affine=True, track_running_stats=True)\n",
       "      (5): ReLU()\n",
       "    )\n",
       "    (moduleUpsample4): Sequential(\n",
       "      (0): ConvTranspose2d(512, 256, kernel_size=(3, 3), stride=(2, 2), padding=(1, 1), output_padding=(1, 1))\n",
       "      (1): BatchNorm2d(256, eps=1e-05, momentum=0.1, affine=True, track_running_stats=True)\n",
       "      (2): ReLU()\n",
       "    )\n",
       "    (moduleDeconv3): Sequential(\n",
       "      (0): Conv2d(512, 256, kernel_size=(3, 3), stride=(1, 1), padding=(1, 1))\n",
       "      (1): BatchNorm2d(256, eps=1e-05, momentum=0.1, affine=True, track_running_stats=True)\n",
       "      (2): ReLU()\n",
       "      (3): Conv2d(256, 256, kernel_size=(3, 3), stride=(1, 1), padding=(1, 1))\n",
       "      (4): BatchNorm2d(256, eps=1e-05, momentum=0.1, affine=True, track_running_stats=True)\n",
       "      (5): ReLU()\n",
       "    )\n",
       "    (moduleUpsample3): Sequential(\n",
       "      (0): ConvTranspose2d(256, 128, kernel_size=(3, 3), stride=(2, 2), padding=(1, 1), output_padding=(1, 1))\n",
       "      (1): BatchNorm2d(128, eps=1e-05, momentum=0.1, affine=True, track_running_stats=True)\n",
       "      (2): ReLU()\n",
       "    )\n",
       "    (moduleDeconv2): Sequential(\n",
       "      (0): Conv2d(256, 128, kernel_size=(3, 3), stride=(1, 1), padding=(1, 1))\n",
       "      (1): BatchNorm2d(128, eps=1e-05, momentum=0.1, affine=True, track_running_stats=True)\n",
       "      (2): ReLU()\n",
       "      (3): Conv2d(128, 128, kernel_size=(3, 3), stride=(1, 1), padding=(1, 1))\n",
       "      (4): BatchNorm2d(128, eps=1e-05, momentum=0.1, affine=True, track_running_stats=True)\n",
       "      (5): ReLU()\n",
       "    )\n",
       "    (moduleUpsample2): Sequential(\n",
       "      (0): ConvTranspose2d(128, 64, kernel_size=(3, 3), stride=(2, 2), padding=(1, 1), output_padding=(1, 1))\n",
       "      (1): BatchNorm2d(64, eps=1e-05, momentum=0.1, affine=True, track_running_stats=True)\n",
       "      (2): ReLU()\n",
       "    )\n",
       "    (moduleDeconv1): Sequential(\n",
       "      (0): Conv2d(128, 64, kernel_size=(3, 3), stride=(1, 1), padding=(1, 1))\n",
       "      (1): BatchNorm2d(64, eps=1e-05, momentum=0.1, affine=True, track_running_stats=True)\n",
       "      (2): ReLU()\n",
       "      (3): Conv2d(64, 64, kernel_size=(3, 3), stride=(1, 1), padding=(1, 1))\n",
       "      (4): BatchNorm2d(64, eps=1e-05, momentum=0.1, affine=True, track_running_stats=True)\n",
       "      (5): ReLU()\n",
       "      (6): Conv2d(64, 3, kernel_size=(3, 3), stride=(1, 1), padding=(1, 1))\n",
       "      (7): Tanh()\n",
       "    )\n",
       "  )\n",
       "  (memory): Memory()\n",
       ")"
      ]
     },
     "execution_count": 11,
     "metadata": {},
     "output_type": "execute_result"
    }
   ],
   "source": [
    "# Model setting\n",
    "assert args.method == 'pred' or args.method == 'recon', 'Wrong task name'\n",
    "if args.method == 'pred':\n",
    "    from model.final_future_prediction_with_memory_spatial_sumonly_weight_ranking_top1 import *\n",
    "    model = convAE(args.c, args.t_length, args.msize, args.fdim, args.mdim)\n",
    "else:\n",
    "    from model.Reconstruction import *\n",
    "    model = convAE(args.c, memory_size = args.msize, feature_dim = args.fdim, key_dim = args.mdim)\n",
    "params_encoder =  list(model.encoder.parameters()) \n",
    "params_decoder = list(model.decoder.parameters())\n",
    "params = params_encoder + params_decoder\n",
    "optimizer = torch.optim.Adam(params, lr = args.lr)\n",
    "scheduler = optim.lr_scheduler.CosineAnnealingLR(optimizer,T_max =args.epochs)\n",
    "# model.cuda()\n",
    "model.cuda()"
   ]
  },
  {
   "cell_type": "code",
   "execution_count": 12,
   "metadata": {},
   "outputs": [],
   "source": [
    "log_dir = os.path.join('./exp', args.dataset_type, args.method, args.exp_dir)\n",
    "if not os.path.exists(log_dir):\n",
    "    os.makedirs(log_dir)\n",
    "orig_stdout = sys.stdout\n",
    "f = open(os.path.join(log_dir, 'log.txt'),'w')\n",
    "sys.stdout= f"
   ]
  },
  {
   "cell_type": "code",
   "execution_count": 13,
   "metadata": {},
   "outputs": [],
   "source": [
    "for j, (imgs) in enumerate(train_batch):\n",
    "    print(\"Working\")"
   ]
  },
  {
   "cell_type": "code",
   "execution_count": 14,
   "metadata": {},
   "outputs": [],
   "source": [
    "loss_func_mse = nn.MSELoss(reduction='none')"
   ]
  },
  {
   "cell_type": "code",
   "execution_count": 15,
   "metadata": {},
   "outputs": [],
   "source": [
    "m_items = F.normalize(torch.rand((args.msize, args.mdim), dtype=torch.float), dim=1).cuda()"
   ]
  },
  {
   "cell_type": "code",
   "execution_count": 16,
   "metadata": {},
   "outputs": [],
   "source": [
    "for epoch in range(args.epochs):\n",
    "    labels_list = []\n",
    "    model.train()\n",
    "    \n",
    "    start = time.time()\n",
    "    for j, (imgs) in enumerate(train_batch):\n",
    "        # Move data to CPU\n",
    "        # torch.cuda.empty_cache()\n",
    "        imgs = Variable(imgs).cuda()\n",
    "        print(\"inside\")\n",
    "\n",
    "        if args.method == 'pred':\n",
    "            outputs, _, _, m_items, softmax_score_query, softmax_score_memory, separateness_loss, compactness_loss = model.forward(imgs[:, 0:12], m_items, True)\n",
    "        else:\n",
    "            outputs, _, _, m_items, softmax_score_query, softmax_score_memory, separateness_loss, compactness_loss = model.forward(imgs, m_items, True)\n",
    "\n",
    "        optimizer.zero_grad()\n",
    "        \n",
    "        if args.method == 'pred':\n",
    "            loss_pixel = torch.mean(loss_func_mse(outputs, imgs[:, 12:]))\n",
    "        else:\n",
    "            loss_pixel = torch.mean(loss_func_mse(outputs, imgs))\n",
    "            \n",
    "        loss = loss_pixel + args.loss_compact * compactness_loss + args.loss_separate * separateness_loss\n",
    "        loss.backward(retain_graph=True)\n",
    "        optimizer.step()\n",
    "        print(\"End one enumerator\")\n",
    "        \n",
    "    scheduler.step()\n",
    "    \n",
    "    print('----------------------------------------')\n",
    "    print('Epoch:', epoch + 1)\n",
    "    if args.method == 'pred':\n",
    "        print('Loss: Prediction {:.6f}/ Compactness {:.6f}/ Separateness {:.6f}'.format(loss_pixel.item(), compactness_loss.item(), separateness_loss.item()))\n",
    "    else:\n",
    "        print('Loss: Reconstruction {:.6f}/ Compactness {:.6f}/ Separateness {:.6f}'.format(loss_pixel.item(), compactness_loss.item(), separateness_loss.item()))\n",
    "    print('Memory_items:')\n",
    "    print(m_items)\n",
    "    print('----------------------------------------')"
   ]
  },
  {
   "cell_type": "code",
   "execution_count": null,
   "metadata": {},
   "outputs": [],
   "source": [
    "print('Training is finished')\n",
    "# Save the model and the memory items\n",
    "torch.save(model, os.path.join(log_dir, 'model.pth'))\n",
    "torch.save(m_items, os.path.join(log_dir, 'keys.pt'))"
   ]
  },
  {
   "cell_type": "code",
   "execution_count": null,
   "metadata": {},
   "outputs": [],
   "source": [
    "sys.stdout = orig_stdout\n",
    "f.close()"
   ]
  }
 ],
 "metadata": {
  "kernelspec": {
   "display_name": ".venv",
   "language": "python",
   "name": "python3"
  },
  "language_info": {
   "codemirror_mode": {
    "name": "ipython",
    "version": 3
   },
   "file_extension": ".py",
   "mimetype": "text/x-python",
   "name": "python",
   "nbconvert_exporter": "python",
   "pygments_lexer": "ipython3",
   "version": "3.6.13"
  }
 },
 "nbformat": 4,
 "nbformat_minor": 2
}
